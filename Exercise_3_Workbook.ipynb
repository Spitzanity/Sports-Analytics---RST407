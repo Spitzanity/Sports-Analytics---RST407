{
  "nbformat": 4,
  "nbformat_minor": 0,
  "metadata": {
    "colab": {
      "provenance": [],
      "authorship_tag": "ABX9TyOsV1Ze3tIEi8lkntx96Zpa",
      "include_colab_link": true
    },
    "kernelspec": {
      "name": "python3",
      "display_name": "Python 3"
    },
    "language_info": {
      "name": "python"
    }
  },
  "cells": [
    {
      "cell_type": "markdown",
      "metadata": {
        "id": "view-in-github",
        "colab_type": "text"
      },
      "source": [
        "<a href=\"https://colab.research.google.com/github/Spitzanity/Sports-Analytics---RST407/blob/main/Exercise_3_Workbook.ipynb\" target=\"_parent\"><img src=\"https://colab.research.google.com/assets/colab-badge.svg\" alt=\"Open In Colab\"/></a>"
      ]
    },
    {
      "cell_type": "markdown",
      "source": [
        "4.1:"
      ],
      "metadata": {
        "id": "m_C12LUQ6myK"
      }
    },
    {
      "cell_type": "code",
      "source": [
        "import pandas as pd\n",
        "\n",
        "# Load the dataset\n",
        "file_path = \"Dataset 2.8.csv\"\n",
        "df = pd.read_csv(file_path)\n",
        "\n",
        "# Extract assist data, skipping the first row which contains player names\n",
        "df_assists = df.iloc[1:, [8, 9, 10]]  # Assist columns for Harden, James, and Westbrook\n",
        "df_assists.columns = [\"Harden\", \"James\", \"Westbrook\"]  # Rename columns\n",
        "\n",
        "# Convert to numeric and drop any rows with errors\n",
        "df_assists = df_assists.apply(pd.to_numeric, errors='coerce').dropna()\n",
        "\n",
        "# Compute means and standard errors for each player\n",
        "means = df_assists.mean()\n",
        "std_errors = df_assists.std() / (len(df_assists) ** 0.5)\n",
        "\n",
        "# Compute difference in means between Westbrook and James\n",
        "diff_mean = means[\"Westbrook\"] - means[\"James\"]\n",
        "diff_std_error = ((std_errors[\"Westbrook\"] ** 2) + (std_errors[\"James\"] ** 2)) ** 0.5\n",
        "\n",
        "# Display results\n",
        "results = pd.DataFrame({\n",
        "    \"Player\": [\"Harden\", \"James\", \"Westbrook\", \"Westbrook - James\"],\n",
        "    \"Mean Assists\": [means[\"Harden\"], means[\"James\"], means[\"Westbrook\"], diff_mean],\n",
        "    \"Margin of Error\": [std_errors[\"Harden\"], std_errors[\"James\"], std_errors[\"Westbrook\"], diff_std_error]\n",
        "})\n",
        "\n",
        "# Print the computed results\n",
        "print(results)\n"
      ],
      "metadata": {
        "colab": {
          "base_uri": "https://localhost:8080/"
        },
        "id": "1aiTQicZ6pqL",
        "outputId": "8ef6693a-45a5-466d-b89f-4b637999f59b"
      },
      "execution_count": 1,
      "outputs": [
        {
          "output_type": "stream",
          "name": "stdout",
          "text": [
            "              Player  Mean Assists  Margin of Error\n",
            "0             Harden      8.750000         0.344161\n",
            "1              James      9.125000         0.415815\n",
            "2          Westbrook     10.166667         0.403428\n",
            "3  Westbrook - James      1.041667         0.579359\n"
          ]
        }
      ]
    },
    {
      "cell_type": "markdown",
      "source": [
        "4.2:"
      ],
      "metadata": {
        "id": "FGdm1eiR62_y"
      }
    },
    {
      "cell_type": "code",
      "source": [
        "import math\n",
        "\n",
        "# Given data\n",
        "total_batters = 862\n",
        "batters_reached_base = 213\n",
        "\n",
        "# Compute the proportion\n",
        "p = batters_reached_base / total_batters\n",
        "\n",
        "# Compute the margin of error (using standard error for a proportion)\n",
        "standard_error = math.sqrt((p * (1 - p)) / total_batters)\n",
        "margin_of_error = 1.96 * standard_error  # 95% confidence interval\n",
        "\n",
        "# Print results\n",
        "print(f\"Proportion of batters who reached base: {p:.4f}\")\n",
        "print(f\"Margin of error: {margin_of_error:.4f}\")\n",
        "\n",
        "# Check if it's likely that less than 20% of batters will reach base\n",
        "threshold = 0.20\n",
        "lower_bound = p - margin_of_error\n",
        "if lower_bound < threshold:\n",
        "    print(\"It is possible that less than 20% of batters will reach base in a given season.\")\n",
        "else:\n",
        "    print(\"It is unlikely that less than 20% of batters will reach base in a given season.\")\n"
      ],
      "metadata": {
        "colab": {
          "base_uri": "https://localhost:8080/"
        },
        "id": "QAm12bgi64jW",
        "outputId": "7484ebdf-f882-4329-cfa6-432250881e63"
      },
      "execution_count": 2,
      "outputs": [
        {
          "output_type": "stream",
          "name": "stdout",
          "text": [
            "Proportion of batters who reached base: 0.2471\n",
            "Margin of error: 0.0288\n",
            "It is unlikely that less than 20% of batters will reach base in a given season.\n"
          ]
        }
      ]
    },
    {
      "cell_type": "markdown",
      "source": [
        "4.3:"
      ],
      "metadata": {
        "id": "dCm1IZuT7JxV"
      }
    },
    {
      "cell_type": "code",
      "source": [
        "import math\n",
        "\n",
        "# Given data\n",
        "pass_attempts_2017 = 581\n",
        "pass_attempts_2018 = 570\n",
        "\n",
        "interception_rate_2017 = 1.38 / 100  # Convert percentage to proportion\n",
        "interception_rate_2018 = 1.93 / 100  # Convert percentage to proportion\n",
        "\n",
        "# Compute standard errors for each year\n",
        "se_2017 = math.sqrt((interception_rate_2017 * (1 - interception_rate_2017)) / pass_attempts_2017)\n",
        "se_2018 = math.sqrt((interception_rate_2018 * (1 - interception_rate_2018)) / pass_attempts_2018)\n",
        "\n",
        "# Compute the margin of error for the difference in proportions\n",
        "se_difference = math.sqrt(se_2017**2 + se_2018**2)\n",
        "margin_of_error = 1.96 * se_difference  # 95% confidence interval\n",
        "\n",
        "# Compute the difference in interception percentages\n",
        "difference = interception_rate_2018 - interception_rate_2017\n",
        "\n",
        "# Print results\n",
        "print(f\"Difference in interception percentage: {difference:.4f}\")\n",
        "print(f\"Margin of error: {margin_of_error:.4f}\")\n",
        "\n",
        "# Determine if the change is statistically significant\n",
        "lower_bound = difference - margin_of_error\n",
        "upper_bound = difference + margin_of_error\n",
        "\n",
        "if lower_bound > 0 or upper_bound < 0:\n",
        "    print(\"There is statistical evidence that Brady’s true interception percentage changed from 2017 to 2018.\")\n",
        "else:\n",
        "    print(\"The change in observed interception percentages is likely due to random variation.\")\n"
      ],
      "metadata": {
        "colab": {
          "base_uri": "https://localhost:8080/"
        },
        "id": "OEeiJKnt7YPb",
        "outputId": "79197440-4a92-475a-f691-0dd9173b06cf"
      },
      "execution_count": 3,
      "outputs": [
        {
          "output_type": "stream",
          "name": "stdout",
          "text": [
            "Difference in interception percentage: 0.0055\n",
            "Margin of error: 0.0147\n",
            "The change in observed interception percentages is likely due to random variation.\n"
          ]
        }
      ]
    },
    {
      "cell_type": "code",
      "source": [
        "4.5:"
      ],
      "metadata": {
        "id": "FzJjnHby7eAs"
      },
      "execution_count": null,
      "outputs": []
    },
    {
      "cell_type": "code",
      "source": [
        "import pandas as pd\n",
        "import math\n",
        "\n",
        "# Load the dataset from the provided Excel file\n",
        "file_path = \"Dataset 4.4.xlsx\"  # Update the path if necessary\n",
        "df = pd.read_excel(file_path)\n",
        "\n",
        "# Compute the differences (Visiting team fouls - Home team fouls)\n",
        "df[\"Difference\"] = df[\"Visiting\"] - df[\"Home\"]\n",
        "\n",
        "# Compute the mean and standard deviation of the differences\n",
        "mean_difference = df[\"Difference\"].mean()\n",
        "std_dev_difference = df[\"Difference\"].std()\n",
        "n = len(df)  # Number of games\n",
        "\n",
        "# Compute the margin of error using the formula: 2 * SD / sqrt(n)\n",
        "margin_of_error = 2 * (std_dev_difference / math.sqrt(n))\n",
        "\n",
        "# Print results\n",
        "print(f\"Mean Difference in Fouls: {mean_difference:.4f}\")\n",
        "print(f\"Margin of Error: {margin_of_error:.4f}\")\n"
      ],
      "metadata": {
        "colab": {
          "base_uri": "https://localhost:8080/"
        },
        "id": "bgNes6E07e37",
        "outputId": "5812cb5a-705b-4b0c-ec4e-2be30b47510a"
      },
      "execution_count": 4,
      "outputs": [
        {
          "output_type": "stream",
          "name": "stdout",
          "text": [
            "Mean Difference in Fouls: 0.5065\n",
            "Margin of Error: 0.2934\n"
          ]
        }
      ]
    },
    {
      "cell_type": "markdown",
      "source": [
        "4.6:"
      ],
      "metadata": {
        "id": "R7RMhtF98U86"
      }
    },
    {
      "cell_type": "code",
      "source": [
        "import math\n",
        "\n",
        "# Given data\n",
        "plate_appearances_empty = 105558\n",
        "plate_appearances_runners = 78652\n",
        "\n",
        "home_runs_empty = 3316\n",
        "home_runs_runners = 2269\n",
        "\n",
        "# Compute proportions\n",
        "p_E = home_runs_empty / plate_appearances_empty\n",
        "p_R = home_runs_runners / plate_appearances_runners\n",
        "\n",
        "# Compute the difference\n",
        "diff = p_E - p_R\n",
        "\n",
        "# Compute standard errors for each proportion\n",
        "se_E = math.sqrt((p_E * (1 - p_E)) / plate_appearances_empty)\n",
        "se_R = math.sqrt((p_R * (1 - p_R)) / plate_appearances_runners)\n",
        "\n",
        "# Compute the margin of error for the difference\n",
        "se_diff = math.sqrt(se_E**2 + se_R**2)\n",
        "margin_of_error = 1.96 * se_diff  # 95% confidence interval\n",
        "\n",
        "# Print results\n",
        "print(f\"p_E (Bases Empty HR Rate): {p_E:.6f}\")\n",
        "print(f\"p_R (Runners On HR Rate): {p_R:.6f}\")\n",
        "print(f\"Difference (p_E - p_R): {diff:.6f}\")\n",
        "print(f\"Margin of Error: {margin_of_error:.6f}\")\n",
        "\n",
        "# Determine if the difference is statistically significant\n",
        "lower_bound = diff - margin_of_error\n",
        "upper_bound = diff + margin_of_error\n",
        "\n",
        "if lower_bound > 0 or upper_bound < 0:\n",
        "    print(\"The difference is statistically significant, suggesting that batters are more likely to hit a home run with bases empty.\")\n",
        "else:\n",
        "    print(\"The difference is not statistically significant, meaning the observed trend could be due to random variation.\")\n"
      ],
      "metadata": {
        "colab": {
          "base_uri": "https://localhost:8080/"
        },
        "id": "-ao-V76G8V9w",
        "outputId": "99784cac-8c78-420f-d12c-05a21e22b08f"
      },
      "execution_count": 5,
      "outputs": [
        {
          "output_type": "stream",
          "name": "stdout",
          "text": [
            "p_E (Bases Empty HR Rate): 0.031414\n",
            "p_R (Runners On HR Rate): 0.028849\n",
            "Difference (p_E - p_R): 0.002565\n",
            "Margin of Error: 0.001573\n",
            "The difference is statistically significant, suggesting that batters are more likely to hit a home run with bases empty.\n"
          ]
        }
      ]
    },
    {
      "cell_type": "markdown",
      "source": [
        "4.8:"
      ],
      "metadata": {
        "id": "exwqsqLh8oNy"
      }
    },
    {
      "cell_type": "code",
      "source": [
        "import math\n",
        "\n",
        "# Given data\n",
        "nba_attempts = 53325\n",
        "nba_made = 40903\n",
        "\n",
        "wnba_attempts = 7571\n",
        "wnba_made = 6007\n",
        "\n",
        "# Compute free-throw percentages\n",
        "p_NBA = nba_made / nba_attempts\n",
        "p_WNBA = wnba_made / wnba_attempts\n",
        "\n",
        "# Compute the difference in proportions\n",
        "diff = p_NBA - p_WNBA\n",
        "\n",
        "# Compute standard errors for each proportion\n",
        "se_NBA = math.sqrt((p_NBA * (1 - p_NBA)) / nba_attempts)\n",
        "se_WNBA = math.sqrt((p_WNBA * (1 - p_WNBA)) / wnba_attempts)\n",
        "\n",
        "# Compute the margin of error for the difference\n",
        "se_diff = math.sqrt(se_NBA**2 + se_WNBA**2)\n",
        "margin_of_error = 1.96 * se_diff  # 95% confidence interval\n",
        "\n",
        "# Print results\n",
        "print(f\"NBA Free-Throw Percentage: {p_NBA:.6f}\")\n",
        "print(f\"WNBA Free-Throw Percentage: {p_WNBA:.6f}\")\n",
        "print(f\"Difference (NBA - WNBA): {diff:.6f}\")\n",
        "print(f\"Margin of Error: {margin_of_error:.6f}\")\n",
        "\n",
        "# Determine if the difference is statistically significant\n",
        "lower_bound = diff - margin_of_error\n",
        "upper_bound = diff + margin_of_error\n",
        "\n",
        "if lower_bound > 0 or upper_bound < 0:\n",
        "    print(\"The difference is statistically significant, suggesting that the WNBA has a better free-throw shooting percentage.\")\n",
        "else:\n",
        "    print(\"The difference is not statistically significant, meaning the two leagues have similar free-throw shooting abilities.\")\n"
      ],
      "metadata": {
        "colab": {
          "base_uri": "https://localhost:8080/"
        },
        "id": "o9N4Eafd8p8Q",
        "outputId": "8a581bda-b1bb-41ce-d1c5-6501da4d9077"
      },
      "execution_count": 9,
      "outputs": [
        {
          "output_type": "stream",
          "name": "stdout",
          "text": [
            "NBA Free-Throw Percentage: 0.767051\n",
            "WNBA Free-Throw Percentage: 0.793422\n",
            "Difference (NBA - WNBA): -0.026371\n",
            "Margin of Error: 0.009800\n",
            "The difference is statistically significant, suggesting that the WNBA has a better free-throw shooting percentage.\n"
          ]
        }
      ]
    }
  ]
}