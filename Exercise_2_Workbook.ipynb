{
  "nbformat": 4,
  "nbformat_minor": 0,
  "metadata": {
    "colab": {
      "provenance": [],
      "authorship_tag": "ABX9TyPQGJysALH5DlpxwX19z067",
      "include_colab_link": true
    },
    "kernelspec": {
      "name": "python3",
      "display_name": "Python 3"
    },
    "language_info": {
      "name": "python"
    }
  },
  "cells": [
    {
      "cell_type": "markdown",
      "metadata": {
        "id": "view-in-github",
        "colab_type": "text"
      },
      "source": [
        "<a href=\"https://colab.research.google.com/github/Spitzanity/Sports-Analytics---RST407/blob/main/Exercise_2_Workbook.ipynb\" target=\"_parent\"><img src=\"https://colab.research.google.com/assets/colab-badge.svg\" alt=\"Open In Colab\"/></a>"
      ]
    },
    {
      "cell_type": "markdown",
      "source": [
        "3.2:"
      ],
      "metadata": {
        "id": "g8fJoTcPxyd9"
      }
    },
    {
      "cell_type": "code",
      "execution_count": 1,
      "metadata": {
        "colab": {
          "base_uri": "https://localhost:8080/"
        },
        "id": "cWLOHstswxJ1",
        "outputId": "3fe28918-aff7-44c4-cdab-777db2518943"
      },
      "outputs": [
        {
          "output_type": "stream",
          "name": "stdout",
          "text": [
            "P(B | A) = 0.3365\n",
            "P(A | B) = 0.4795\n",
            "Are A and B independent? No\n"
          ]
        }
      ],
      "source": [
        "# Given probabilities\n",
        "P_A = 0.312  # Probability that home team scores at least 30 points\n",
        "P_B = 0.219  # Probability that visiting team scores at least 30 points\n",
        "P_A_and_B = 0.105  # Probability that both teams score at least 30 points\n",
        "\n",
        "# Compute conditional probabilities\n",
        "P_B_given_A = P_A_and_B / P_A\n",
        "P_A_given_B = P_A_and_B / P_B\n",
        "\n",
        "# Check for independence\n",
        "P_A_times_P_B = P_A * P_B\n",
        "independent = P_A_and_B == P_A_times_P_B\n",
        "\n",
        "# Print results\n",
        "print(f\"P(B | A) = {P_B_given_A:.4f}\")\n",
        "print(f\"P(A | B) = {P_A_given_B:.4f}\")\n",
        "print(f\"Are A and B independent? {'Yes' if independent else 'No'}\")"
      ]
    },
    {
      "cell_type": "markdown",
      "source": [
        "P(A∩B) is not equal to\n",
        "P\n",
        "(\n",
        "A\n",
        ")\n",
        "P\n",
        "(\n",
        "B\n",
        ")\n",
        "P(A)P(B), so the events are not independent. This suggests that there is a relationship between these events—when one team scores at least 30 points, the other team is more likely to do so as well."
      ],
      "metadata": {
        "id": "vDoDDyQcy1KW"
      }
    },
    {
      "cell_type": "markdown",
      "source": [
        "3.3:"
      ],
      "metadata": {
        "id": "OiSnZH3j0J0L"
      }
    },
    {
      "cell_type": "code",
      "source": [
        "# Given probabilities\n",
        "P_H = 0.540  # Probability of home team win\n",
        "P_T = 0.154  # Probability of game being tied after 5 innings\n",
        "P_H_given_T = 0.149  # Probability of home team win given tie after 5 innings\n",
        "P_V_given_T = 0.159  # Probability of visiting team win given tie after 5 innings\n",
        "\n",
        "# Compare conditional probabilities\n",
        "visiting_more_likely = P_V_given_T > P_H_given_T\n",
        "\n",
        "# Print results\n",
        "print(f\"P(H | T) = {P_H_given_T:.4f}\")\n",
        "print(f\"P(V | T) = {P_V_given_T:.4f}\")\n",
        "print(f\"Is the visiting team more likely to win if tied after 5 innings? {'Yes' if visiting_more_likely else 'No'}\")\n"
      ],
      "metadata": {
        "colab": {
          "base_uri": "https://localhost:8080/"
        },
        "id": "hUnR0lcIy_Y9",
        "outputId": "17204202-5bed-4932-9fa7-7294e93ff9d7"
      },
      "execution_count": 2,
      "outputs": [
        {
          "output_type": "stream",
          "name": "stdout",
          "text": [
            "P(H | T) = 0.1490\n",
            "P(V | T) = 0.1590\n",
            "Is the visiting team more likely to win if tied after 5 innings? Yes\n"
          ]
        }
      ]
    },
    {
      "cell_type": "markdown",
      "source": [
        "Yes, based on the given conditional probabilities, the visiting team is slightly more likely to win when a game is tied after 5 innings. However, this does not necessarily mean the visiting team is generally more likely to win the game overall. The home team still wins more often in total, suggesting that home-field advantage plays a larger role over the full game."
      ],
      "metadata": {
        "id": "_ejADiaD0AdO"
      }
    },
    {
      "cell_type": "markdown",
      "source": [
        "3.5:"
      ],
      "metadata": {
        "id": "KSK7f5JO0G0M"
      }
    },
    {
      "cell_type": "code",
      "source": [
        "# Given probabilities\n",
        "P_FG = 0.504  # Overall field goal percentage\n",
        "P_FG_given_3P = 0.383  # Three-point shooting percentage\n",
        "P_3P = 0.216  # Percentage of total shots that are three-pointers\n",
        "P_2P = 1 - P_3P  # Percentage of total shots that are two-pointers\n",
        "\n",
        "# Using the law of total probability to find two-point shooting percentage\n",
        "P_FG_given_2P = (P_FG - (P_FG_given_3P * P_3P)) / P_2P\n",
        "\n",
        "# Print results\n",
        "print(f\"P(FG | 2P) = {P_FG_given_2P:.4f} ({P_FG_given_2P * 100:.2f}%)\")"
      ],
      "metadata": {
        "colab": {
          "base_uri": "https://localhost:8080/"
        },
        "id": "rlj9LsDR0IXh",
        "outputId": "f1e46455-1c28-4946-de51-b7ff4a720e74"
      },
      "execution_count": 3,
      "outputs": [
        {
          "output_type": "stream",
          "name": "stdout",
          "text": [
            "P(FG | 2P) = 0.5373 (53.73%)\n"
          ]
        }
      ]
    },
    {
      "cell_type": "markdown",
      "source": [
        "Thus, the Suns' two-point shooting percentage for the 2008-09 season was 53.73%."
      ],
      "metadata": {
        "id": "ZuYEbuMx1aiQ"
      }
    },
    {
      "cell_type": "markdown",
      "source": [
        "3.6:"
      ],
      "metadata": {
        "id": "dhqrnTlS1d0t"
      }
    },
    {
      "cell_type": "code",
      "source": [
        "# Given probability\n",
        "P_K = 0.35  # Probability that Max Scherzer strikes out a single batter\n",
        "\n",
        "# Probability of striking out three consecutive batters\n",
        "P_K3 = P_K ** 3\n",
        "\n",
        "# Print result\n",
        "print(f\"P(K_3) = {P_K3:.4f} ({P_K3 * 100:.2f}%)\")"
      ],
      "metadata": {
        "colab": {
          "base_uri": "https://localhost:8080/"
        },
        "id": "-3f9JR0T1fOr",
        "outputId": "d645f6bf-6790-4819-b207-28b30e59385a"
      },
      "execution_count": 4,
      "outputs": [
        {
          "output_type": "stream",
          "name": "stdout",
          "text": [
            "P(K_3) = 0.0429 (4.29%)\n"
          ]
        }
      ]
    },
    {
      "cell_type": "markdown",
      "source": [
        "Thus, the probability that Max Scherzer strikes out three consecutive batters is 0.0429 or 4.29%."
      ],
      "metadata": {
        "id": "VxtpG-3B2EAm"
      }
    },
    {
      "cell_type": "markdown",
      "source": [
        "3.7:"
      ],
      "metadata": {
        "id": "Rkc5oRUP2Gep"
      }
    },
    {
      "cell_type": "code",
      "source": [
        "import pandas as pd\n",
        "\n",
        "# Load the dataset\n",
        "file_path = \"Dataset 3.2.xlsx\"\n",
        "xls = pd.ExcelFile(file_path)\n",
        "\n",
        "# Load the data from the first sheet\n",
        "df = pd.read_excel(xls, sheet_name='Sheet1')\n",
        "\n",
        "# Trim whitespace from column names\n",
        "df.columns = df.columns.str.strip()\n",
        "\n",
        "# Define league-wide shot distribution\n",
        "league_distribution = {\n",
        "    \"0-3\": 0.281,\n",
        "    \"3-10\": 0.156,\n",
        "    \"10-16\": 0.106,\n",
        "    \"16-3pt\": 0.120,\n",
        "    \"3pt\": 0.337\n",
        "}\n",
        "\n",
        "# Compute adjusted shooting percentage for each player\n",
        "adjusted_fg_percentages = {}\n",
        "\n",
        "for index, row in df.iterrows():\n",
        "    player_name = row[\"Player\"]\n",
        "    adjusted_fg = (\n",
        "        (row[\"0-3\"] * league_distribution[\"0-3\"]) +\n",
        "        (row[\"3-10\"] * league_distribution[\"3-10\"]) +\n",
        "        (row[\"10-16\"] * league_distribution[\"10-16\"]) +\n",
        "        (row[\"16-3pt\"] * league_distribution[\"16-3pt\"]) +\n",
        "        (row[\"3pt\"] * league_distribution[\"3pt\"])\n",
        "    )\n",
        "    adjusted_fg_percentages[player_name] = adjusted_fg\n",
        "\n",
        "# Convert results to a DataFrame for better display\n",
        "adjusted_fg_df = pd.DataFrame(list(adjusted_fg_percentages.items()), columns=[\"Player\", \"Adjusted FG%\"])\n",
        "\n",
        "# Print results\n",
        "print(adjusted_fg_df.to_string(index=False))\n"
      ],
      "metadata": {
        "colab": {
          "base_uri": "https://localhost:8080/"
        },
        "id": "xr5UlDHW2H3j",
        "outputId": "eb3baadc-cbc0-4995-f8b5-eb051c9f88b4"
      },
      "execution_count": 5,
      "outputs": [
        {
          "output_type": "stream",
          "name": "stdout",
          "text": [
            "  Player  Adjusted FG%\n",
            "  Durant       54.4821\n",
            "   James       48.7039\n",
            "  Korver       53.2564\n",
            "Thompson       50.7052\n"
          ]
        }
      ]
    },
    {
      "cell_type": "markdown",
      "source": [
        "Based on the adjustments, LeBron James is now actually in last. With Kevin Durant now in the lead."
      ],
      "metadata": {
        "id": "WFllUikz4InO"
      }
    },
    {
      "cell_type": "markdown",
      "source": [
        "3.8:"
      ],
      "metadata": {
        "id": "vxvMbyIJ4WsU"
      }
    },
    {
      "cell_type": "code",
      "source": [
        "import pandas as pd\n",
        "\n",
        "# Given values\n",
        "p = 0.904  # Free throw success probability\n",
        "n = 300  # Number of attempts for part (a)\n",
        "N = 5000  # Total career attempts for part (b)\n",
        "\n",
        "# Compute mean and standard deviation for part (a)\n",
        "mean_X = n * p\n",
        "std_X = (n * p * (1 - p)) ** 0.5\n",
        "\n",
        "# Compute mean and standard deviation of proportion X/n\n",
        "mean_X_n = mean_X / n\n",
        "std_X_n = std_X / n\n",
        "\n",
        "# Compute probability of making 97 consecutive free throws\n",
        "p_97_consecutive = p ** 97\n",
        "\n",
        "# Print results\n",
        "results = f\"\"\"\n",
        "(a) Mean of X: {mean_X:.1f}\n",
        "    Standard deviation of X: {std_X:.1f}\n",
        "    Mean of X/n: {mean_X_n:.3f}\n",
        "    Standard deviation of X/n: {std_X_n:.3f}\n",
        "\n",
        "(b) Probability of making 97 consecutive free throws: {p_97_consecutive:.10f}\n",
        "\"\"\"\n",
        "\n",
        "print(results)"
      ],
      "metadata": {
        "colab": {
          "base_uri": "https://localhost:8080/"
        },
        "id": "eeJfFb6G4Yc1",
        "outputId": "bdd7cdd7-e8f8-45ec-e8e9-fd2a51685663"
      },
      "execution_count": 6,
      "outputs": [
        {
          "output_type": "stream",
          "name": "stdout",
          "text": [
            "\n",
            "(a) Mean of X: 271.2\n",
            "    Standard deviation of X: 5.1\n",
            "    Mean of X/n: 0.904\n",
            "    Standard deviation of X/n: 0.017\n",
            "\n",
            "(b) Probability of making 97 consecutive free throws: 0.0000560193\n",
            "\n"
          ]
        }
      ]
    },
    {
      "cell_type": "markdown",
      "source": [
        "The probability of making 97 consecutive free throws is approximately 0.000056 (or 0.0056%), which is extremely low. This suggests that while Curry is an excellent free-throw shooter, breaking the record of 97 consecutive free throws would still be a rare event."
      ],
      "metadata": {
        "id": "lX_rB73n50ay"
      }
    },
    {
      "cell_type": "markdown",
      "source": [
        "3.9:"
      ],
      "metadata": {
        "id": "J3AIjeOY53a3"
      }
    },
    {
      "cell_type": "code",
      "source": [
        "import pandas as pd\n",
        "\n",
        "# Load the dataset for FIP values\n",
        "fip_file_path = \"Dataset 3.3.xlsx\"\n",
        "fip_xls = pd.ExcelFile(fip_file_path)\n",
        "\n",
        "# Load the data from the first sheet\n",
        "fip_df = pd.read_excel(fip_xls, sheet_name='Sheet 1')\n",
        "\n",
        "# Extract the five standout pitchers' FIP values\n",
        "standout_fip = {\n",
        "    \"1946\": (1.97, \"Hal Newhouser\"),\n",
        "    \"1968\": (1.77, \"Bob Gibson\"),\n",
        "    \"1984\": (1.69, \"Dwight Gooden\"),\n",
        "    \"1999\": (1.39, \"Pedro Martinez\"),\n",
        "    \"2014\": (1.81, \"Clayton Kershaw\")\n",
        "}\n",
        "\n",
        "# Compute mean and standard deviation for each year\n",
        "z_scores = {}\n",
        "\n",
        "for year, (fip_value, player_name) in standout_fip.items():\n",
        "    column_name = f\"Year {year}\"\n",
        "    mean_fip = fip_df[column_name].mean()\n",
        "    std_fip = fip_df[column_name].std()\n",
        "\n",
        "    # Compute Z-score\n",
        "    z_score = (fip_value - mean_fip) / std_fip\n",
        "    z_scores[year] = (z_score, player_name)\n",
        "\n",
        "# Convert results to a DataFrame for better display\n",
        "z_scores_df = pd.DataFrame([(year, data[0], data[1]) for year, data in z_scores.items()],\n",
        "                            columns=[\"Year\", \"Z-Score\", \"Player\"])\n",
        "\n",
        "# Determine the most and least impressive performances\n",
        "most_impressive_row = z_scores_df.loc[z_scores_df[\"Z-Score\"].idxmin()]\n",
        "least_impressive_row = z_scores_df.loc[z_scores_df[\"Z-Score\"].idxmax()]\n",
        "\n",
        "# Print results\n",
        "print(\"Z-Scores for Standout Pitchers:\")\n",
        "print(z_scores_df.to_string(index=False))\n",
        "print(f\"\\nMost Impressive Performance: {most_impressive_row['Player']} in {most_impressive_row['Year']} (Z = {most_impressive_row['Z-Score']:.2f})\")\n",
        "print(f\"Least Impressive Performance: {least_impressive_row['Player']} in {least_impressive_row['Year']} (Z = {least_impressive_row['Z-Score']:.2f})\")\n"
      ],
      "metadata": {
        "colab": {
          "base_uri": "https://localhost:8080/"
        },
        "id": "LkW7WFSJ7205",
        "outputId": "261fadab-24bc-453c-ce90-780feba0cdf1"
      },
      "execution_count": 10,
      "outputs": [
        {
          "output_type": "stream",
          "name": "stdout",
          "text": [
            "Z-Scores for Standout Pitchers:\n",
            "Year   Z-Score          Player\n",
            "1946 -2.703083   Hal Newhouser\n",
            "1968 -2.425673      Bob Gibson\n",
            "1984 -3.817616   Dwight Gooden\n",
            "1999 -4.366478  Pedro Martinez\n",
            "2014 -3.003891 Clayton Kershaw\n",
            "\n",
            "Most Impressive Performance: Pedro Martinez in 1999 (Z = -4.37)\n",
            "Least Impressive Performance: Bob Gibson in 1968 (Z = -2.43)\n"
          ]
        }
      ]
    }
  ]
}