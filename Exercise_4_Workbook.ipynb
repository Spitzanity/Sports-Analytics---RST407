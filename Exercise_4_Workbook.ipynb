{
  "nbformat": 4,
  "nbformat_minor": 0,
  "metadata": {
    "colab": {
      "provenance": [],
      "authorship_tag": "ABX9TyO1lui6yVSWnI1n1zm8ovWk",
      "include_colab_link": true
    },
    "kernelspec": {
      "name": "python3",
      "display_name": "Python 3"
    },
    "language_info": {
      "name": "python"
    }
  },
  "cells": [
    {
      "cell_type": "markdown",
      "metadata": {
        "id": "view-in-github",
        "colab_type": "text"
      },
      "source": [
        "<a href=\"https://colab.research.google.com/github/Spitzanity/Sports-Analytics---RST407/blob/main/Exercise_4_Workbook.ipynb\" target=\"_parent\"><img src=\"https://colab.research.google.com/assets/colab-badge.svg\" alt=\"Open In Colab\"/></a>"
      ]
    },
    {
      "cell_type": "markdown",
      "source": [
        "5.2:"
      ],
      "metadata": {
        "id": "zUnfXdBt4kR6"
      }
    },
    {
      "cell_type": "code",
      "execution_count": 2,
      "metadata": {
        "colab": {
          "base_uri": "https://localhost:8080/"
        },
        "id": "bb-4GJ1l3a0e",
        "outputId": "8693a30f-e9ff-4992-96e5-7c7db60e65b5"
      },
      "outputs": [
        {
          "output_type": "stream",
          "name": "stdout",
          "text": [
            "Correlation coefficient: 0.253\n",
            "P-value: 2.209e-19\n",
            "The correlation is statistically significant.\n"
          ]
        }
      ],
      "source": [
        "import pandas as pd\n",
        "import scipy.stats as stats\n",
        "\n",
        "# Load the dataset\n",
        "file_path = \"Dataset 4.4.xlsx\"\n",
        "df = pd.read_excel(file_path)\n",
        "\n",
        "# Calculate Pearson correlation coefficient and p-value\n",
        "correlation, p_value = stats.pearsonr(df[\"Home\"], df[\"Visiting\"])\n",
        "\n",
        "# Print results\n",
        "print(f\"Correlation coefficient: {correlation:.3f}\")\n",
        "print(f\"P-value: {p_value:.3e}\")\n",
        "\n",
        "# Interpretation\n",
        "if p_value < 0.05:\n",
        "    print(\"The correlation is statistically significant.\")\n",
        "else:\n",
        "    print(\"The correlation is not statistically significant.\")\n"
      ]
    },
    {
      "cell_type": "markdown",
      "source": [
        "5.3:"
      ],
      "metadata": {
        "id": "zofCOeei5LXe"
      }
    },
    {
      "cell_type": "code",
      "source": [
        "import pandas as pd\n",
        "import numpy as np\n",
        "import scipy.stats as stats\n",
        "\n",
        "# Load the dataset\n",
        "file_path = \"Dataset 5.18.xlsx\"\n",
        "df = pd.read_excel(file_path)\n",
        "\n",
        "# Calculate Pearson correlation coefficient and p-value\n",
        "correlation, p_value = stats.pearsonr(df[\"RS\"], df[\"RA\"])\n",
        "\n",
        "# Compute the margin of error for the correlation coefficient\n",
        "n = len(df)  # Number of teams\n",
        "standard_error = np.sqrt((1 - correlation**2) / (n - 2))\n",
        "margin_of_error = 1.96 * standard_error  # 95% confidence interval\n",
        "\n",
        "# Print results\n",
        "print(f\"Correlation coefficient: {correlation:.3f}\")\n",
        "print(f\"Margin of Error: ±{margin_of_error:.3f}\")\n",
        "print(f\"P-value: {p_value:.6f}\")\n",
        "\n",
        "# Interpretation\n",
        "if p_value < 0.05:\n",
        "    print(\"The correlation is statistically significant.\")\n",
        "else:\n",
        "    print(\"The correlation is not statistically significant.\")"
      ],
      "metadata": {
        "colab": {
          "base_uri": "https://localhost:8080/"
        },
        "id": "_301NH-B5Moa",
        "outputId": "1c8f96dd-bf21-4cab-bcb4-419c914d7681"
      },
      "execution_count": 3,
      "outputs": [
        {
          "output_type": "stream",
          "name": "stdout",
          "text": [
            "Correlation coefficient: -0.620\n",
            "Margin of Error: ±0.291\n",
            "P-value: 0.000256\n",
            "The correlation is statistically significant.\n"
          ]
        }
      ]
    },
    {
      "cell_type": "markdown",
      "source": [
        "Interpretation:\n",
        "The negative correlation suggests that teams that score more runs tend to allow fewer runs, which aligns with the expectation that stronger teams generally have both good offense and good defense.\n",
        "Since the p-value is very small, this correlation is unlikely to be due to random chance.\n",
        "The margin of error indicates some variability, meaning the true correlation could be anywhere from -0.911 to -0.329."
      ],
      "metadata": {
        "id": "Q3162s9t5rZH"
      }
    },
    {
      "cell_type": "markdown",
      "source": [
        "5.4:"
      ],
      "metadata": {
        "id": "BCKXL-0U5tnu"
      }
    },
    {
      "cell_type": "code",
      "source": [
        "import pandas as pd\n",
        "import scipy.stats as stats\n",
        "\n",
        "# Load the dataset\n",
        "file_path = \"Dataset 2.8.xlsx\"\n",
        "df_raw = pd.read_excel(file_path, header=None)\n",
        "\n",
        "# Extract relevant data (starting from row 2)\n",
        "df_cleaned = df_raw.iloc[2:, [0, 1, 2]].reset_index(drop=True)\n",
        "\n",
        "# Rename columns\n",
        "df_cleaned.columns = [\"Harden_PTS\", \"LeBron_PTS\", \"Westbrook_PTS\"]\n",
        "\n",
        "# Convert to numeric\n",
        "df_cleaned = df_cleaned.apply(pd.to_numeric, errors='coerce')\n",
        "\n",
        "# Compute first-order autocorrelation for each player's points scored\n",
        "autocorrelations = df_cleaned.apply(lambda x: x.autocorr(lag=1))\n",
        "\n",
        "# Compute statistical significance using a t-test\n",
        "n_games = len(df_cleaned)\n",
        "t_values = autocorrelations * ((n_games - 2) ** 0.5) / ((1 - autocorrelations ** 2) ** 0.5)\n",
        "p_values = pd.Series(stats.t.sf(abs(t_values), df=n_games-2) * 2, index=autocorrelations.index)  # Ensure indexing\n",
        "\n",
        "# Print results\n",
        "print(\"First-order Autocorrelation Coefficients:\")\n",
        "print(autocorrelations)\n",
        "print(\"\\nP-values:\")\n",
        "print(p_values)\n",
        "\n",
        "# Interpretation\n",
        "for player in autocorrelations.index:\n",
        "    if p_values.loc[player] < 0.05:\n",
        "        print(f\"{player} has a statistically significant autocorrelation.\")\n",
        "    else:\n",
        "        print(f\"{player} does not have a statistically significant autocorrelation.\")"
      ],
      "metadata": {
        "colab": {
          "base_uri": "https://localhost:8080/"
        },
        "id": "Jq4K3VQw66iL",
        "outputId": "bf97baee-8100-476e-b0bd-105f868e4c60"
      },
      "execution_count": 5,
      "outputs": [
        {
          "output_type": "stream",
          "name": "stdout",
          "text": [
            "First-order Autocorrelation Coefficients:\n",
            "Harden_PTS       0.048652\n",
            "LeBron_PTS       0.001120\n",
            "Westbrook_PTS    0.152325\n",
            "dtype: float64\n",
            "\n",
            "P-values:\n",
            "Harden_PTS       0.650723\n",
            "LeBron_PTS       0.991687\n",
            "Westbrook_PTS    0.154143\n",
            "dtype: float64\n",
            "Harden_PTS does not have a statistically significant autocorrelation.\n",
            "LeBron_PTS does not have a statistically significant autocorrelation.\n",
            "Westbrook_PTS does not have a statistically significant autocorrelation.\n"
          ]
        }
      ]
    },
    {
      "cell_type": "markdown",
      "source": [
        "Interpretation:\n",
        "None of the players have statistically significant autocorrelations, meaning their scoring patterns do not strongly depend on previous game performances.\n",
        "Among the three, Russell Westbrook has the highest autocorrelation (0.152), suggesting that he is the most \"streaky,\" though the correlation is still weak and not statistically significant."
      ],
      "metadata": {
        "id": "IIcwq5Wy7AVb"
      }
    },
    {
      "cell_type": "markdown",
      "source": [
        "5.8:"
      ],
      "metadata": {
        "id": "fnJE82W47Btj"
      }
    },
    {
      "cell_type": "code",
      "source": [
        "import pandas as pd\n",
        "import statsmodels.api as sm\n",
        "from scipy.stats import pearsonr\n",
        "\n",
        "# Load the dataset\n",
        "file_path = \"Dataset 5.21.xlsx\"\n",
        "df = pd.read_excel(file_path)\n",
        "\n",
        "# Function to compute partial correlation manually\n",
        "def partial_correlation(df, x, y, covar):\n",
        "    X = sm.add_constant(df[covar])  # Add constant for intercept\n",
        "    model_x = sm.OLS(df[x], X).fit()\n",
        "    residuals_x = model_x.resid\n",
        "    model_y = sm.OLS(df[y], X).fit()\n",
        "    residuals_y = model_y.resid\n",
        "    partial_corr, p_value = pearsonr(residuals_x, residuals_y)\n",
        "    return partial_corr, p_value\n",
        "\n",
        "# Compute Pearson correlations\n",
        "corr_par4_drive, p_val_par4_drive = pearsonr(df[\"Par4\"], df[\"Drive\"])\n",
        "corr_par5_drive, p_val_par5_drive = pearsonr(df[\"Par5\"], df[\"Drive\"])\n",
        "\n",
        "# Compute Partial correlations (controlling for driving accuracy)\n",
        "partial_corr_par4, p_val_partial_par4 = partial_correlation(df, \"Par4\", \"Drive\", \"Acc\")\n",
        "partial_corr_par5, p_val_partial_par5 = partial_correlation(df, \"Par5\", \"Drive\", \"Acc\")\n",
        "\n",
        "# Print results\n",
        "print(f\"Pearson Correlation (Par 4 & Drive): {corr_par4_drive:.3f}, p-value: {p_val_par4_drive:.3e}\")\n",
        "print(f\"Partial Correlation (Par 4 & Drive, controlling for Acc): {partial_corr_par4:.3f}, p-value: {p_val_partial_par4:.3e}\\n\")\n",
        "print(f\"Pearson Correlation (Par 5 & Drive): {corr_par5_drive:.3f}, p-value: {p_val_par5_drive:.3e}\")\n",
        "print(f\"Partial Correlation (Par 5 & Drive, controlling for Acc): {partial_corr_par5:.3f}, p-value: {p_val_partial_par5:.3e}\")"
      ],
      "metadata": {
        "colab": {
          "base_uri": "https://localhost:8080/"
        },
        "id": "TwvQgo6i7DFe",
        "outputId": "abe2c1fb-8c6a-4b20-9561-36c6f1334aee"
      },
      "execution_count": 6,
      "outputs": [
        {
          "output_type": "stream",
          "name": "stdout",
          "text": [
            "Pearson Correlation (Par 4 & Drive): -0.286, p-value: 5.594e-05\n",
            "Partial Correlation (Par 4 & Drive, controlling for Acc): -0.498, p-value: 1.637e-13\n",
            "\n",
            "Pearson Correlation (Par 5 & Drive): -0.523, p-value: 5.933e-15\n",
            "Partial Correlation (Par 5 & Drive, controlling for Acc): -0.593, p-value: 1.094e-19\n"
          ]
        }
      ]
    },
    {
      "cell_type": "markdown",
      "source": [
        "Interpretation:\n",
        "Negative correlations indicate that players with longer drive distances tend to have lower (better) scores on both Par 4 and Par 5 holes.\n",
        "The relationship is stronger for Par 5 scores than for Par 4 scores, suggesting that driving distance has a greater impact on scoring on longer holes.\n",
        "When controlling for driving accuracy, the partial correlation strengthens, meaning that accuracy plays a role but does not fully explain the relationship between drive distance and scoring."
      ],
      "metadata": {
        "id": "nAjLA7pr7y-h"
      }
    },
    {
      "cell_type": "markdown",
      "source": [
        "5.9:"
      ],
      "metadata": {
        "id": "XR6zCphe74yk"
      }
    },
    {
      "cell_type": "code",
      "source": [
        "import pandas as pd\n",
        "import statsmodels.api as sm\n",
        "from scipy.stats import pearsonr\n",
        "\n",
        "# Load the datasets\n",
        "pga_file = \"Dataset 5.21.xlsx\"  # PGA Tour data\n",
        "lpga_file = \"Dataset 5.22.xlsx\"  # LPGA Tour data\n",
        "pga_df = pd.read_excel(pga_file)\n",
        "lpga_df = pd.read_excel(lpga_file)\n",
        "\n",
        "# Function to compute partial correlation manually\n",
        "def partial_correlation(df, x, y, covar):\n",
        "    X = sm.add_constant(df[covar])  # Add constant for intercept\n",
        "    model_x = sm.OLS(df[x], X).fit()\n",
        "    residuals_x = model_x.resid\n",
        "    model_y = sm.OLS(df[y], X).fit()\n",
        "    residuals_y = model_y.resid\n",
        "    partial_corr, p_value = pearsonr(residuals_x, residuals_y)\n",
        "    return partial_corr, p_value\n",
        "\n",
        "# Compute Pearson and Partial correlations for both tours\n",
        "def compute_correlations(df, distance_col):\n",
        "    corr_par4, p_val_par4 = pearsonr(df[\"Par4\"], df[distance_col])\n",
        "    corr_par5, p_val_par5 = pearsonr(df[\"Par5\"], df[distance_col])\n",
        "    partial_corr_par4, p_val_partial_par4 = partial_correlation(df, \"Par4\", distance_col, \"Acc\")\n",
        "    partial_corr_par5, p_val_partial_par5 = partial_correlation(df, \"Par5\", distance_col, \"Acc\")\n",
        "    return (corr_par4, p_val_par4, partial_corr_par4, p_val_partial_par4,\n",
        "            corr_par5, p_val_par5, partial_corr_par5, p_val_partial_par5)\n",
        "\n",
        "# PGA results\n",
        "pga_results = compute_correlations(pga_df, \"Drive\")\n",
        "# LPGA results\n",
        "lpga_results = compute_correlations(lpga_df, \"Dist\")\n",
        "\n",
        "# Print results\n",
        "print(\"PGA Tour Results:\")\n",
        "print(f\"Par 4 - Pearson: {pga_results[0]:.3f}, p-value: {pga_results[1]:.3e}\")\n",
        "print(f\"Par 4 - Partial: {pga_results[2]:.3f}, p-value: {pga_results[3]:.3e}\")\n",
        "print(f\"Par 5 - Pearson: {pga_results[4]:.3f}, p-value: {pga_results[5]:.3e}\")\n",
        "print(f\"Par 5 - Partial: {pga_results[6]:.3f}, p-value: {pga_results[7]:.3e}\\n\")\n",
        "\n",
        "print(\"LPGA Tour Results:\")\n",
        "print(f\"Par 4 - Pearson: {lpga_results[0]:.3f}, p-value: {lpga_results[1]:.3e}\")\n",
        "print(f\"Par 4 - Partial: {lpga_results[2]:.3f}, p-value: {lpga_results[3]:.3e}\")\n",
        "print(f\"Par 5 - Pearson: {lpga_results[4]:.3f}, p-value: {lpga_results[5]:.3e}\")\n",
        "print(f\"Par 5 - Partial: {lpga_results[6]:.3f}, p-value: {lpga_results[7]:.3e}\")"
      ],
      "metadata": {
        "colab": {
          "base_uri": "https://localhost:8080/"
        },
        "id": "YQEkKthX75tJ",
        "outputId": "93a5053f-1c94-4f70-a82d-c8cd82957103"
      },
      "execution_count": 7,
      "outputs": [
        {
          "output_type": "stream",
          "name": "stdout",
          "text": [
            "PGA Tour Results:\n",
            "Par 4 - Pearson: -0.286, p-value: 5.594e-05\n",
            "Par 4 - Partial: -0.498, p-value: 1.637e-13\n",
            "Par 5 - Pearson: -0.523, p-value: 5.933e-15\n",
            "Par 5 - Partial: -0.593, p-value: 1.094e-19\n",
            "\n",
            "LPGA Tour Results:\n",
            "Par 4 - Pearson: -0.219, p-value: 4.729e-03\n",
            "Par 4 - Partial: -0.644, p-value: 9.679e-21\n",
            "Par 5 - Pearson: -0.387, p-value: 2.718e-07\n",
            "Par 5 - Partial: -0.569, p-value: 1.513e-15\n"
          ]
        }
      ]
    },
    {
      "cell_type": "markdown",
      "source": [
        "Key Takeaways:\n",
        "LPGA golfers show a stronger relationship between accuracy and scoring compared to PGA golfers—accuracy appears to be more critical for performance in the LPGA.\n",
        "Drive distance impacts both tours, but its influence on scoring is greater for men on Par 5s.\n",
        "The impact of drive distance on scoring is more pronounced after controlling for accuracy in both tours."
      ],
      "metadata": {
        "id": "WkipOccW8vOm"
      }
    },
    {
      "cell_type": "markdown",
      "source": [
        "5.10:"
      ],
      "metadata": {
        "id": "XpPeOM2e8yBP"
      }
    },
    {
      "cell_type": "code",
      "source": [
        "import pandas as pd\n",
        "import statsmodels.api as sm\n",
        "from scipy.stats import pearsonr\n",
        "\n",
        "# Load the dataset\n",
        "file_path = \"Dataset 5.20.xlsx\"\n",
        "df = pd.read_excel(file_path)\n",
        "\n",
        "# Compute X (difference in yards gained) and Y (point difference)\n",
        "df[\"X\"] = df[\"YH\"] - df[\"YV\"]\n",
        "df[\"Y\"] = df[\"H\"] - df[\"V\"]\n",
        "\n",
        "# Compute Z (difference in turnovers)\n",
        "df[\"Z\"] = df[\"TOH\"] - df[\"TOV\"]\n",
        "\n",
        "# Compute Pearson correlation between X and Y\n",
        "correlation_xy, p_value_xy = pearsonr(df[\"X\"], df[\"Y\"])\n",
        "\n",
        "# Function to compute partial correlation manually\n",
        "def partial_correlation(df, x, y, covar):\n",
        "    X = sm.add_constant(df[covar])  # Add constant for intercept\n",
        "    model_x = sm.OLS(df[x], X).fit()\n",
        "    residuals_x = model_x.resid\n",
        "    model_y = sm.OLS(df[y], X).fit()\n",
        "    residuals_y = model_y.resid\n",
        "    partial_corr, p_value = pearsonr(residuals_x, residuals_y)\n",
        "    return partial_corr, p_value\n",
        "\n",
        "# Compute Partial correlation (controlling for Z)\n",
        "partial_corr_xy_z, p_value_partial_xy_z = partial_correlation(df, \"X\", \"Y\", \"Z\")\n",
        "\n",
        "# Print results\n",
        "print(f\"Pearson Correlation (X & Y): {correlation_xy:.3f}, p-value: {p_value_xy:.3e}\")\n",
        "print(f\"Partial Correlation (X & Y, controlling for Z): {partial_corr_xy_z:.3f}, p-value: {p_value_partial_xy_z:.3e}\")"
      ],
      "metadata": {
        "colab": {
          "base_uri": "https://localhost:8080/"
        },
        "id": "OGCiZbfQ8zxT",
        "outputId": "2c6271f9-98f4-440c-f87f-0d156d8f2bca"
      },
      "execution_count": 8,
      "outputs": [
        {
          "output_type": "stream",
          "name": "stdout",
          "text": [
            "Pearson Correlation (X & Y): 0.578, p-value: 3.070e-24\n",
            "Partial Correlation (X & Y, controlling for Z): 0.731, p-value: 5.731e-44\n"
          ]
        }
      ]
    },
    {
      "cell_type": "markdown",
      "source": [
        "Interpretation:\n",
        "The positive Pearson correlation (0.578) suggests that teams that gain more yards than their opponents tend to have a higher point differential.\n",
        "However, when controlling for turnovers, the partial correlation increases to 0.731, indicating that turnovers have a meaningful effect on point differential.\n",
        "This suggests that both yards gained and turnovers are important predictors of game outcomes, but once turnovers are accounted for, the relationship between yardage and scoring difference becomes even stronger."
      ],
      "metadata": {
        "id": "pnWA6p2f9UsQ"
      }
    }
  ]
}